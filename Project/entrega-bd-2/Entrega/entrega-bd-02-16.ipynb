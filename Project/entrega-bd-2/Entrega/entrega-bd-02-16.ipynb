{
 "cells": [
  {
   "attachments": {},
   "cell_type": "markdown",
   "id": "19b43aee-c23f-4ef7-8547-9c309b2dbecb",
   "metadata": {},
   "source": [
    "# Projeto de Bases de Dados - Parte 3\n",
    "\n",
    "### Docente Responsável\n",
    "\n",
    "Prof. Daniel Faria\n",
    "\n",
    "### Grupo 16\n",
    "<dl>\n",
    "    <dt>12 horas (33.3%)</dt>\n",
    "    <dd>ist199656 Diogo Guerreiro</dd>\n",
    "    <dt>12 horas (33.3%)</dt>\n",
    "    <dd>ist199642 André Bento</dd>\n",
    "    <dt>12 horas (33.3%)</dt>\n",
    "    <dd>ist1103972 Afonso Resendes</dd>\n",
    "<dl>"
   ]
  },
  {
   "cell_type": "code",
   "execution_count": null,
   "id": "a6545a02-adea-4c57-b704-cfa1f6253e4b",
   "metadata": {
    "tags": []
   },
   "outputs": [],
   "source": [
    "%load_ext sql\n",
    "%sql postgresql://db:db@postgres/db"
   ]
  },
  {
   "attachments": {},
   "cell_type": "markdown",
   "id": "1c5deb6e-396e-401f-9b09-af4cd09491a9",
   "metadata": {
    "tags": []
   },
   "source": [
    "# Empresa de comércio online"
   ]
  },
  {
   "attachments": {},
   "cell_type": "markdown",
   "id": "76eab1e8-8d6a-41e3-b242-553a7f14ba84",
   "metadata": {
    "tags": []
   },
   "source": [
    "## 0. Carregamento da Base de Dados"
   ]
  },
  {
   "attachments": {},
   "cell_type": "markdown",
   "id": "e047df4e-b18b-4c70-8f7b-378b4201ee01",
   "metadata": {},
   "source": [
    "Carregue o esquema de Base de Dados apresentado no Anexo A."
   ]
  },
  {
   "cell_type": "code",
   "execution_count": null,
   "id": "c718077c-5193-47a0-bb76-8f1f43a713be",
   "metadata": {},
   "outputs": [],
   "source": [
    "%%sql\n",
    "\n",
    "DROP TABLE IF EXISTS customer CASCADE;\n",
    "DROP TABLE IF EXISTS orders CASCADE;\n",
    "DROP TABLE IF EXISTS pay CASCADE;\n",
    "DROP TABLE IF EXISTS employee CASCADE;\n",
    "DROP TABLE IF EXISTS process CASCADE;\n",
    "DROP TABLE IF EXISTS department CASCADE;\n",
    "DROP TABLE IF EXISTS workplace CASCADE;\n",
    "DROP TABLE IF EXISTS works CASCADE;\n",
    "DROP TABLE IF EXISTS office CASCADE;\n",
    "DROP TABLE IF EXISTS warehouse CASCADE;\n",
    "DROP TABLE IF EXISTS product CASCADE;\n",
    "DROP TABLE IF EXISTS contains CASCADE;\n",
    "DROP TABLE IF EXISTS supplier CASCADE;\n",
    "DROP TABLE IF EXISTS delivery CASCADE;\n",
    "\n",
    "CREATE TABLE customer(\n",
    "cust_no INTEGER PRIMARY KEY,\n",
    "name VARCHAR(80) NOT NULL,\n",
    "email VARCHAR(254) UNIQUE NOT NULL,\n",
    "phone VARCHAR(15),\n",
    "address VARCHAR(255)\n",
    ");\n",
    "\n",
    "CREATE TABLE orders(\n",
    "order_no INTEGER PRIMARY KEY,\n",
    "cust_no INTEGER NOT NULL REFERENCES customer,\n",
    "date DATE NOT NULL\n",
    "--order_no must exist in contains\n",
    ");\n",
    "\n",
    "CREATE TABLE pay(\n",
    "order_no INTEGER PRIMARY KEY REFERENCES orders,\n",
    "cust_no INTEGER NOT NULL REFERENCES customer\n",
    ");\n",
    "\n",
    "CREATE TABLE employee(\n",
    "ssn VARCHAR(20) PRIMARY KEY,\n",
    "TIN VARCHAR(20) UNIQUE NOT NULL,\n",
    "bdate DATE,\n",
    "name VARCHAR NOT NULL\n",
    "\n",
    ");\n",
    "\n",
    "CREATE TABLE process(\n",
    "ssn VARCHAR(20) REFERENCES employee,\n",
    "order_no INTEGER REFERENCES orders,\n",
    "PRIMARY KEY (ssn, order_no)\n",
    ");\n",
    "\n",
    "CREATE TABLE department(\n",
    "name VARCHAR PRIMARY KEY\n",
    ");\n",
    "\n",
    "CREATE TABLE workplace(\n",
    "address VARCHAR PRIMARY KEY,\n",
    "lat NUMERIC(8, 6) NOT NULL,\n",
    "long NUMERIC(9, 6) NOT NULL,\n",
    "UNIQUE(lat, long)\n",
    "--address must be in warehouse or office but not both\n",
    ");\n",
    "\n",
    "CREATE TABLE office(\n",
    "address VARCHAR(255) PRIMARY KEY REFERENCES workplace\n",
    ");\n",
    "\n",
    "CREATE TABLE warehouse(\n",
    "address VARCHAR(255) PRIMARY KEY REFERENCES workplace\n",
    ");\n",
    "\n",
    "CREATE TABLE works(\n",
    "ssn VARCHAR(20) REFERENCES employee,\n",
    "name VARCHAR(200) REFERENCES department,\n",
    "address VARCHAR(255) REFERENCES workplace,\n",
    "PRIMARY KEY (ssn, name, address)\n",
    ");\n",
    "\n",
    "CREATE TABLE product(\n",
    "SKU VARCHAR(25) PRIMARY KEY,\n",
    "name VARCHAR(200) NOT NULL,\n",
    "description VARCHAR,\n",
    "price NUMERIC(10, 2) NOT NULL,\n",
    "ean NUMERIC(13) UNIQUE\n",
    ");\n",
    "\n",
    "CREATE TABLE contains(\n",
    "order_no INTEGER REFERENCES orders,\n",
    "SKU VARCHAR(25) REFERENCES product,\n",
    "qty INTEGER,\n",
    "PRIMARY KEY (order_no, SKU)\n",
    ");\n",
    "\n",
    "CREATE TABLE supplier(\n",
    "TIN VARCHAR(20) PRIMARY KEY,\n",
    "name VARCHAR(200),\n",
    "address VARCHAR(255),\n",
    "SKU VARCHAR(25) REFERENCES product,\n",
    "date DATE\n",
    ");\n",
    "\n",
    "CREATE TABLE delivery(\n",
    "address VARCHAR(255) REFERENCES warehouse,\n",
    "TIN VARCHAR(20) REFERENCES supplier,\n",
    "PRIMARY KEY (address, TIN)\n",
    ");"
   ]
  },
  {
   "attachments": {},
   "cell_type": "markdown",
   "id": "25fcb3f3-2ec6-4264-bd74-d07bfd56fa76",
   "metadata": {},
   "source": [
    "Crie as instruções para o seu preenchimento de forma consistente, garantindo que todas as consultas SQL e OLAP, apresentadas mais adiante, produzam um resultado não vazio. "
   ]
  },
  {
   "cell_type": "code",
   "execution_count": null,
   "id": "e33d841c-c21e-4a9a-88b4-00b45b039261",
   "metadata": {
    "tags": []
   },
   "outputs": [],
   "source": [
    "%%sql\n",
    "-- populate.sql\n",
    "\n",
    "INSERT INTO customer(cust_no, name, email, phone, address)\n",
    "VALUES (1, 'João da Silva', 'joao.silva@email.com', '987654321', '1111-111 Av.A'),\n",
    "       (2, 'Maria Santos', 'maria.santos@email.com', '912345678', '2222-222 Av.B'),\n",
    "       (3, 'Pedro Oliveira', 'pedro.oliveira@email.com', '923456789', '3333-333 Av.C'),\n",
    "       (4, 'Ana Pereira', 'ana.pereira@email.com', '934567890', '4444-444 Av.D'),\n",
    "       (5, 'Carlos Rodrigues', 'carlos.rodrigues@email.com', '945678901', '5555-555 Av.E'),\n",
    "       (6, 'Sofia Costa', 'sofia.costa@email.com', '956789012', '6666-666 Av.F'),\n",
    "       (7, 'Luís Gonçalves', 'luis.goncalves@email.com', '967890123', '7777-777 Av.G'),\n",
    "       (8, 'Beatriz Almeida', 'beatriz.almeida@email.com', '978901234', '8888-888 Av.H');\n",
    "\n",
    "\n",
    "\n",
    "\n",
    "\n",
    "INSERT INTO employee(ssn, TIN, bdate, name)\n",
    "VALUES ('12345678901', '12345678901', '1980-01-01', 'João Santos'),\n",
    "       ('23456789012', '23456789012', '1985-02-02', 'Maria Silva'),\n",
    "       ('34567890123', '34567890123', '1990-03-03', 'Pedro Oliveira'),\n",
    "       ('45678901234', '45678901234', '1995-04-04', 'Ana Pereira'),\n",
    "       ('56789012345', '56789012345', '2000-05-05', 'Carlos Rodrigues'),\n",
    "       ('67890123456', '67890123456', '1988-06-06', 'Sofia Costa'),\n",
    "       ('78901234567', '78901234567', '1977-07-07', 'Luís Gonçalves'),\n",
    "       ('89012345678', '89012345678', '1982-08-08', 'Beatriz Almeida');\n",
    "\n",
    "\n",
    "\n",
    "INSERT INTO department(name)\n",
    "VALUES ('Finance'),\n",
    "       ('Sales'),\n",
    "       ('Marketing'),\n",
    "       ('HR'),\n",
    "       ('IT'),\n",
    "       ('Operations');\n",
    "\n",
    "\n",
    "CALL insert_workplace('Rua X, 123', -23.5489, -46.6388,TRUE,FALSE);\n",
    "       CALL insert_workplace('Av. Y, 456', -22.9068, -43.1729,TRUE,FALSE);\n",
    "       CALL insert_workplace('Rua Z, 789', -15.7801, -47.9292,TRUE,FALSE);\n",
    "       CALL insert_workplace('Av. W, 987', -30.0331, -51.2266,TRUE,FALSE);\n",
    "       CALL insert_workplace('Rua V, 654', -25.4284, -49.2733,FALSE,TRUE);\n",
    "       CALL insert_workplace('Av. U, 321', -23.5505, -46.6333,FALSE,TRUE);\n",
    "       CALL insert_workplace('Rua T, 789', -19.9167, -43.9345,FALSE,TRUE);\n",
    "       CALL insert_workplace('Av. S, 654', -3.7319, -38.5267,FALSE,TRUE);\n",
    "\n",
    "   \n",
    "INSERT INTO works(ssn, name, address)\n",
    "VALUES ('12345678901', 'Finance', 'Rua X, 123'),\n",
    "       ('23456789012', 'Sales', 'Av. Y, 456'),\n",
    "       ('34567890123', 'Marketing', 'Rua Z, 789'),\n",
    "       ('45678901234', 'HR', 'Av. W, 987'),\n",
    "       ('56789012345', 'IT', 'Rua V, 654'),\n",
    "       ('67890123456', 'Operations', 'Av. U, 321'),\n",
    "       ('78901234567', 'Finance', 'Rua T, 789'),\n",
    "       ('89012345678', 'Sales', 'Av. S, 654');\n",
    "       \n",
    "INSERT INTO product(SKU, name, description, price, ean)\n",
    "VALUES ('12345', 'Camiseta', 'Camisola branca', 29.90, 7891234567890),\n",
    "       ('23456', 'Calça Jeans', 'Calças jeans', 99.90, 7892345678901),\n",
    "       ('34567', 'Sapato', 'Sapatos pretos', 149.90, 7893456789012),\n",
    "       ('45678', 'Vestido', 'Vestido', 79.90, 7894567890123),\n",
    "       ('56789', 'Camisa Polo', 'Camisa polo', 59.90, 7895678901234),\n",
    "       ('67890', 'Bermuda', 'Calcoes jeans', 39.90, 7896789012345),\n",
    "       ('78901', 'Blusa', 'Casaco', 49.90, 7897890123456),\n",
    "       ('89012', 'Saia', 'Saia longa', 69.90, 7898901234567);\n",
    "\n",
    "\n",
    "CALL add_order_with_contains (1, 1, '2022-07-01','12345',2);\n",
    "CALL add_order_with_contains (2, 3, '2022-07-02', '23456',1);\n",
    "CALL add_order_with_contains (3, 2, '2022-05-03','34567',3);\n",
    "CALL add_order_with_contains (4, 5, '2022-05-04', '45678',1);\n",
    "CALL add_order_with_contains  (5, 4, '2022-05-05','56789',2);\n",
    "CALL add_order_with_contains (6, 6, '2022-05-06','67890',1);\n",
    "CALL add_order_with_contains (7, 1, '2022-06-07','78901',4);\n",
    "CALL add_order_with_contains (8, 7, '2022-06-08','89012',3);\n",
    "\n",
    "\n",
    "\n",
    "\n",
    "INSERT INTO supplier(TIN, name, address, SKU, date)\n",
    "VALUES ('12345678901', 'Fornecedor A', 'Rua A, 123', '12345', '2022-07-01'),\n",
    "       ('23456789012', 'Fornecedor B', 'Av. B, 456', '23456', '2022-07-02'),\n",
    "       ('34567890123', 'Fornecedor C', 'Rua C, 789', '34567', '2022-05-03'),\n",
    "       ('45678901234', 'Fornecedor D', 'Av. D, 987', '45678', '2022-05-04'),\n",
    "       ('56789012345', 'Fornecedor E', 'Rua E, 654', '56789', '2022-05-05'),\n",
    "       ('67890123456', 'Fornecedor F', 'Av. F, 321', '67890', '2022-05-06'),\n",
    "       ('78901234567', 'Fornecedor G', 'Rua G, 789', '78901', '2022-06-07'),\n",
    "       ('89012345678', 'Fornecedor H', 'Av. H, 654', '89012', '2022-06-08');\n",
    "\n",
    "INSERT INTO delivery(address, TIN)\n",
    "VALUES ('Rua V, 654', '56789012345'),\n",
    "       ('Av. U, 321', '67890123456'),\n",
    "       ('Rua T, 789', '78901234567'),\n",
    "       ('Av. S, 654', '89012345678');\n",
    "       \n",
    "       \n",
    "INSERT INTO process(ssn, order_no)\n",
    "VALUES ('12345678901', 1),\n",
    "       ('12345678901', 2),\n",
    "       ('12345678901', 3),\n",
    "       ('12345678901', 4),\n",
    "       ('12345678901', 5),\n",
    "       ('12345678901', 6),\n",
    "       ('12345678901', 7),\n",
    "       ('12345678901', 8);\n",
    "       \n",
    "INSERT INTO pay(order_no, cust_no)\n",
    "VALUES (1, 1),\n",
    "       (2, 3),\n",
    "       (3, 2),\n",
    "       (4, 5),\n",
    "       (6, 6),\n",
    "       (7, 1),\n",
    "       (8, 7);\n"
   ]
  },
  {
   "attachments": {},
   "cell_type": "markdown",
   "id": "9772880f-58f0-46c8-9670-737390210bb4",
   "metadata": {
    "tags": []
   },
   "source": [
    "## 1. Restrições de Integridade\n",
    "\n",
    "Apresente o código para implementar as seguintes restrições de integridade, se necessário, com recurso a extensões procedimentais SQL (Stored Procedures e Triggers):"
   ]
  },
  {
   "attachments": {},
   "cell_type": "markdown",
   "id": "a0a92dd6-9093-4f4e-addf-591d83c466b3",
   "metadata": {},
   "source": [
    "(RI-1) Nenhum empregado pode ter menos de 18 anos de idade"
   ]
  },
  {
   "cell_type": "code",
   "execution_count": null,
   "id": "c422052c-0463-46ae-9be1-b6f6ed19d2b9",
   "metadata": {
    "tags": []
   },
   "outputs": [],
   "source": [
    "%%sql\n",
    "-- (RI-1)\n",
    "\n",
    "CREATE OR REPLACE FUNCTION check_employee_age()\n",
    "RETURNS TRIGGER AS $$\n",
    "DECLARE\n",
    "    employee_age INTEGER;\n",
    "BEGIN\n",
    "\n",
    "    employee_age := EXTRACT(YEAR FROM age(NEW.bdate));\n",
    "\n",
    "\n",
    "    IF employee_age < 18 THEN\n",
    "        RAISE EXCEPTION 'A idade do empregado deve ser maior ou igual a 18 anos.';\n",
    "    END IF;\n",
    "\n",
    "    RETURN NEW;\n",
    "END;\n",
    "$$ LANGUAGE plpgsql;\n",
    "\n",
    "\n",
    "CREATE TRIGGER check_employee_age_trigger\n",
    "BEFORE INSERT OR UPDATE ON employee\n",
    "FOR EACH ROW\n",
    "EXECUTE FUNCTION check_employee_age();\n",
    "\n"
   ]
  },
  {
   "attachments": {},
   "cell_type": "markdown",
   "id": "e99193b5-fd48-4601-a226-34432074af53",
   "metadata": {},
   "source": [
    "(RI-2) Um 'Workplace' é obrigatoriamente um 'Office' ou 'Warehouse' mas não pode ser ambos"
   ]
  },
  {
   "cell_type": "code",
   "execution_count": null,
   "id": "188ec396-6e55-4fd3-b436-dcafe454f677",
   "metadata": {
    "tags": []
   },
   "outputs": [],
   "source": [
    "%%sql\n",
    "-- (RI-2)\n",
    "\n",
    "CREATE OR REPLACE PROCEDURE insert_workplace(\n",
    "  p_address VARCHAR(255),\n",
    "  p_lat NUMERIC(8, 6),\n",
    "  p_long NUMERIC(9, 6),\n",
    "  p_office BOOLEAN,\n",
    "  p_warehouse BOOLEAN\n",
    ")\n",
    "AS $$\n",
    "BEGIN\n",
    "  IF (p_office = p_warehouse) THEN\n",
    "    RAISE EXCEPTION 'Somente um tipo de Workplace (Office ou Warehouse) pode ser especificado.';\n",
    "  END IF;\n",
    "\n",
    "  INSERT INTO workplace (address, lat, long)\n",
    "  VALUES (p_address, p_lat, p_long);\n",
    "\n",
    "  IF (p_office = TRUE) THEN\n",
    "    INSERT INTO office (address)\n",
    "    VALUES (p_address);\n",
    "  END IF;\n",
    "\n",
    "  IF (p_warehouse = TRUE) THEN\n",
    "    INSERT INTO warehouse (address)\n",
    "    VALUES (p_address);\n",
    "  END IF;\n",
    "END;\n",
    "$$ LANGUAGE plpgsql;\n",
    "\n",
    "\n",
    "CREATE OR REPLACE PROCEDURE remove_workplace(\n",
    "  p_address VARCHAR(255)\n",
    ")\n",
    "AS $$\n",
    "BEGIN\n",
    "  IF NOT EXISTS (SELECT 1 FROM workplace WHERE address = p_address) THEN\n",
    "    RAISE EXCEPTION 'Endereço de Workplace inválido.';\n",
    "  END IF;\n",
    "\n",
    "  DELETE FROM office WHERE address = p_address;\n",
    "\n",
    "  DELETE FROM warehouse WHERE address = p_address;\n",
    "\n",
    "  DELETE FROM workplace WHERE address = p_address;\n",
    "END;\n",
    "$$ LANGUAGE plpgsql;\n",
    "\n",
    "\n",
    "\n"
   ]
  },
  {
   "attachments": {},
   "cell_type": "markdown",
   "id": "7e659751-bbd0-475a-b36e-8d40d7d58a54",
   "metadata": {},
   "source": [
    "(RI-3) Uma 'Order' tem de figurar obrigatoriamente em 'Contains'."
   ]
  },
  {
   "cell_type": "code",
   "execution_count": null,
   "id": "f2993b94-77a8-4b09-b522-f39021c55131",
   "metadata": {
    "tags": []
   },
   "outputs": [],
   "source": [
    "%%sql\n",
    "-- (RI-3)\n",
    "\n",
    "CREATE OR REPLACE PROCEDURE add_order_with_contains(\n",
    "  p_order_no INTEGER,\n",
    "  p_cust_no INTEGER,\n",
    "  p_date DATE,\n",
    "  p_sku VARCHAR(25),\n",
    "  p_qty INTEGER\n",
    ")\n",
    "AS $$\n",
    "BEGIN\n",
    "  INSERT INTO orders (order_no, cust_no, date)\n",
    "  VALUES (p_order_no, p_cust_no, p_date);\n",
    "\n",
    "  INSERT INTO contains (order_no, SKU, qty)\n",
    "  VALUES (p_order_no, p_sku, p_qty);\n",
    "  \n",
    "  COMMIT;\n",
    "END;\n",
    "$$ LANGUAGE plpgsql;\n",
    "\n"
   ]
  },
  {
   "attachments": {},
   "cell_type": "markdown",
   "id": "37637f46-470f-431a-9833-4d8665176450",
   "metadata": {
    "tags": []
   },
   "source": [
    "## 2. Consultas SQL"
   ]
  },
  {
   "attachments": {},
   "cell_type": "markdown",
   "id": "f861ee47-e72b-4633-8dac-b4728ed852b9",
   "metadata": {},
   "source": [
    "Apresente a consulta SQL mais sucinta para cada uma das seguintes questões"
   ]
  },
  {
   "attachments": {},
   "cell_type": "markdown",
   "id": "fd2e1654-059e-4ef5-a63d-5e81280baab0",
   "metadata": {},
   "source": [
    "1) Qual o número e nome do(s) cliente(s) com maior valor total de encomendas pagas?  "
   ]
  },
  {
   "cell_type": "code",
   "execution_count": null,
   "id": "5b79ced0-279d-4e04-921e-0c831d7a79f2",
   "metadata": {
    "tags": []
   },
   "outputs": [],
   "source": [
    "%%sql\n",
    "\n",
    "SELECT c.cust_no, c.name, SUM(p.price * co.qty) AS total_order_value\n",
    "FROM customer c\n",
    "JOIN pay pa ON c.cust_no = pa.cust_no\n",
    "JOIN orders o ON pa.order_no = o.order_no\n",
    "JOIN contains co ON o.order_no = co.order_no\n",
    "JOIN product p ON co.SKU = p.SKU\n",
    "GROUP BY c.cust_no, c.name\n",
    "HAVING SUM(p.price * co.qty) = (\n",
    "  SELECT MAX(total_order_value)\n",
    "  FROM (\n",
    "    SELECT SUM(p.price * co.qty) AS total_order_value\n",
    "    FROM customer c\n",
    "    JOIN pay pa ON c.cust_no = pa.cust_no\n",
    "    JOIN orders o ON pa.order_no = o.order_no\n",
    "    JOIN contains co ON o.order_no = co.order_no\n",
    "    JOIN product p ON co.SKU = p.SKU\n",
    "    GROUP BY c.cust_no\n",
    "  ) AS subquery\n",
    ");\n",
    "\n"
   ]
  },
  {
   "attachments": {},
   "cell_type": "markdown",
   "id": "4f863499-c40e-428c-85e8-d2741362906d",
   "metadata": {},
   "source": [
    "2. Qual o nome dos empregados que processaram encomendas em todos os dias de 2022 em que houve encomendas?"
   ]
  },
  {
   "cell_type": "code",
   "execution_count": null,
   "id": "aadac5e9-d0e4-46e0-bab5-33d00b863884",
   "metadata": {
    "tags": []
   },
   "outputs": [],
   "source": [
    "%%sql\n",
    "\n",
    "\n",
    "SELECT e.name\n",
    "FROM employee e\n",
    "WHERE NOT EXISTS (\n",
    "  SELECT DISTINCT o.date\n",
    "  FROM orders o\n",
    "  WHERE o.date BETWEEN '2022-01-01' AND '2022-12-31'\n",
    "    AND NOT EXISTS (\n",
    "      SELECT 1\n",
    "      FROM process p\n",
    "      WHERE p.ssn = e.ssn AND p.order_no = o.order_no\n",
    "    )\n",
    ")\n",
    "\n",
    "\n",
    "\n"
   ]
  },
  {
   "attachments": {},
   "cell_type": "markdown",
   "id": "e871bc9e-60c4-465b-a727-9ff2d2115d0b",
   "metadata": {},
   "source": [
    "3. Quantas encomendas foram realizadas mas não pagas em cada mês de 2022?"
   ]
  },
  {
   "cell_type": "code",
   "execution_count": null,
   "id": "3e3e702e-1acb-4004-aa9e-31e4d5916669",
   "metadata": {
    "tags": []
   },
   "outputs": [],
   "source": [
    "%%sql\n",
    "\n",
    "\n",
    "SELECT EXTRACT(MONTH FROM o.date) AS month, COUNT(*) AS unpaid_orders\n",
    "FROM orders o\n",
    "LEFT JOIN pay p ON o.order_no = p.order_no\n",
    "WHERE p.order_no IS NULL AND EXTRACT(YEAR FROM o.date) = 2022\n",
    "GROUP BY month\n",
    "ORDER BY month;"
   ]
  },
  {
   "attachments": {},
   "cell_type": "markdown",
   "id": "97f45cec-fe42-418a-b85d-c9e51807a42c",
   "metadata": {},
   "source": [
    "## 3. Vistas"
   ]
  },
  {
   "attachments": {},
   "cell_type": "markdown",
   "id": "03062b56-40fa-41c0-aac9-3e77b9049c27",
   "metadata": {},
   "source": [
    "Crie uma vista que resuma as informações mais importantes sobre as vendas de produtos, combinando informações de diferentes tabelas do esquema de base de dados. A vista deve ter o seguinte esquema:\n",
    "\n",
    "product_sales(sku, order_no, qty, total_price, year, month, day_of_month, day_of_week, city)"
   ]
  },
  {
   "cell_type": "code",
   "execution_count": null,
   "id": "0bbb2226-5de4-4051-b4c0-9130bd4904f5",
   "metadata": {
    "tags": []
   },
   "outputs": [],
   "source": [
    "%%sql\n",
    "\n",
    "CREATE VIEW product_sales AS\n",
    "SELECT c.SKU, c.order_no, c.qty, (c.qty * p.price) AS total_price,\n",
    "       EXTRACT(YEAR FROM o.date) AS year, EXTRACT(MONTH FROM o.date) AS month,\n",
    "       EXTRACT(DAY FROM o.date) AS day_of_month, EXTRACT(DOW FROM o.date) AS day_of_week,\n",
    "       SUBSTRING(cust.address, 10) AS city\n",
    "FROM contains c\n",
    "JOIN orders o ON c.order_no = o.order_no\n",
    "JOIN customer cust ON o.cust_no = cust.cust_no\n",
    "JOIN product p ON c.SKU = p.SKU\n",
    "JOIN pay py ON o.order_no = py.order_no;"
   ]
  },
  {
   "attachments": {},
   "cell_type": "markdown",
   "id": "6b615865-602f-4974-9de1-27d0060362ef",
   "metadata": {
    "tags": []
   },
   "source": [
    "## 4. Desenvolvimento de Aplicação"
   ]
  },
  {
   "attachments": {},
   "cell_type": "markdown",
   "id": "0bad635d-f5c2-449f-97b0-90d10a4d482b",
   "metadata": {},
   "source": [
    "A arquitetura do app consiste em um ficheiro Python chamado \"app\" que define uma aplicação Flask para gerenciar um sistema de produtos, clientes, fornecedores e pedidos. Este ficheiro possui rotas para executar operações de criação, leitura, atualização e exclusão (CRUD) no banco de dados PostgreSQL, além de renderizar templates HTML.\n",
    "A app também possui uma pasta chamada \"templates\" que contém o ficheiro \"base.html\", onde está presente a barra lateral. Dentro dessa pasta, existem quatro subpastas (\"customer\", \"order\", \"product\" e \"supplier\"), cada uma contendo ficheiros HTML relacionados ao seu respectivo nome. Estes ficheiros podem ser \"index\" (que exibe a lista de todos os elementos), \"edit\" (que permite a edição) e \"create\" (que permite a criação).\n",
    "Além disso, há uma pasta chamada \"static\" que contém ficheiros CSS para estilizar todo o site.\n"
   ]
  },
  {
   "attachments": {},
   "cell_type": "markdown",
   "id": "5dff0f43-90cc-4ab5-b874-c3fb24776728",
   "metadata": {},
   "source": [
    "## 5. Consultas OLAP"
   ]
  },
  {
   "attachments": {},
   "cell_type": "markdown",
   "id": "5c8c25ed-b858-4daf-a291-b59e489c0a44",
   "metadata": {},
   "source": [
    "Usando a vista desenvolvida para a Questão 3, escreva duas consultas SQL que permitam analisar:"
   ]
  },
  {
   "attachments": {},
   "cell_type": "markdown",
   "id": "bd8d173c-e72f-4e89-8949-e2df3b7b07a3",
   "metadata": {},
   "source": [
    "1. As quantidade e valores totais de venda de cada produto em 2022, globalmente, por cidade, por mês, dia do mês e dia da semana"
   ]
  },
  {
   "cell_type": "code",
   "execution_count": null,
   "id": "bf12ce01-15c0-4e7c-b329-576dd344ebf6",
   "metadata": {
    "tags": []
   },
   "outputs": [],
   "source": [
    "%%sql\n",
    "\n",
    "\n",
    "SELECT sku, city, month, day_of_month, day_of_week, SUM(qty) AS total_qty, SUM(total_price) AS total_price\n",
    "FROM product_sales\n",
    "WHERE year = 2022\n",
    "GROUP BY GROUPING SETS ((city,sku ), (month, sku), (day_of_month, sku), (day_of_week, sku))\n",
    "ORDER BY sku, city, month, day_of_month, day_of_week;"
   ]
  },
  {
   "attachments": {},
   "cell_type": "markdown",
   "id": "a6f88296-429c-4c1c-9a7a-5cbe9cb65920",
   "metadata": {},
   "source": [
    "2. O valor médio diário das vendas de todos os produtos em 2022, globalmente, por mês e dia da semana"
   ]
  },
  {
   "cell_type": "code",
   "execution_count": null,
   "id": "32bc01fe",
   "metadata": {},
   "outputs": [],
   "source": [
    "%%sql\n",
    "\n",
    "CREATE TABLE data (\n",
    "  date_id SERIAL PRIMARY KEY,\n",
    "  date_value DATE,\n",
    "  year INT,\n",
    "  month INT,\n",
    "  day INT,\n",
    "  day_of_week INT\n",
    ");\n",
    "\n",
    "\n",
    "INSERT INTO data (date_value, year, month, day, day_of_week)\n",
    "SELECT\n",
    "  generate_series('2022-01-01'::DATE, '2022-12-31'::DATE, '1 day'),\n",
    "  EXTRACT(YEAR FROM generate_series),\n",
    "  EXTRACT(MONTH FROM generate_series),\n",
    "  EXTRACT(DAY FROM generate_series),\n",
    "  EXTRACT(DOW FROM generate_series)\n",
    "FROM generate_series('2022-01-01'::DATE, '2022-12-31'::DATE, '1 day');\n"
   ]
  },
  {
   "cell_type": "code",
   "execution_count": null,
   "id": "7aac0901-02ad-4a40-964e-dc03430f8e77",
   "metadata": {
    "tags": []
   },
   "outputs": [],
   "source": [
    "%%sql\n",
    "\n",
    "SELECT d.month, d.day_of_week, AVG(ps.total_price) AS average_daily_sales\n",
    "FROM data d\n",
    "LEFT JOIN product_sales ps ON d.date_value = ps.date\n",
    "WHERE d.year = 2022\n",
    "GROUP BY  GROUPING SETS (d.month), (d.day_of_week)\n",
    "ORDER BY d.month, d.day_of_week;\n"
   ]
  },
  {
   "attachments": {},
   "cell_type": "markdown",
   "id": "5a75300b-51d0-4512-8b50-ffac98d66070",
   "metadata": {
    "tags": []
   },
   "source": [
    "## 6. Índices"
   ]
  },
  {
   "attachments": {},
   "cell_type": "markdown",
   "id": "35f160cc-30e9-4381-9b3e-0d78ef421af8",
   "metadata": {
    "tags": []
   },
   "source": [
    "Indique, com a devida justificação, que tipo de índice(s), sobre qual(is) atributo(s) e sobre qual(is) tabela(s) faria sentido criar, de forma a agilizar a execução de cada uma das seguintes consultas: "
   ]
  },
  {
   "attachments": {},
   "cell_type": "markdown",
   "id": "6e6e7eb2-c8ba-4d93-a31b-a2384d538fc0",
   "metadata": {},
   "source": [
    "### 6.1\n",
    "SELECT order_no\n",
    "FROM orders \n",
    "JOIN contains USING (order_no) \n",
    "JOIN product USING (SKU) \n",
    "WHERE price > 50 AND \n",
    "EXTRACT(YEAR FROM date) = 2023"
   ]
  },
  {
   "attachments": {},
   "cell_type": "markdown",
   "id": "b12768c7-efcc-4550-a7c1-7f8bbafd6409",
   "metadata": {},
   "source": [
    "### Tipo de Índice, Atributos & Justificação\n",
    "\n",
    "Um índice na tabela \"product\" no atributo \"price\". Isso ajudará a otimizar a operação de filtro \"price > 50\" no JOIN com a tabela \"contains\", permitindo uma busca mais eficiente nos valores de preço.\n",
    "\n",
    "CREATE INDEX idx_product_price ON product (price);\n",
    "\n",
    "Um índice na tabela \"orders\" no atributo \"date\". Isso ajudará a otimizar a operação de filtro \"EXTRACT(YEAR FROM date) = 2023\", permitindo uma busca mais rápida nas datas correspondentes ao ano de 2023.\n",
    "\n",
    "CREATE INDEX idx_orders_date ON orders (date);\n"
   ]
  },
  {
   "attachments": {},
   "cell_type": "markdown",
   "id": "89f6cb2b-8425-42f8-810c-9c9e5797b686",
   "metadata": {},
   "source": [
    "### 6.2\n",
    "SELECT order_no, SUM(qty*price)\n",
    "FROM contains \n",
    "JOIN product USING (SKU) \n",
    "WHERE name LIKE ‘A%’ \n",
    "GROUP BY order_no;"
   ]
  },
  {
   "attachments": {},
   "cell_type": "markdown",
   "id": "1af12988-e1f5-4a72-835d-9aba30d0ce88",
   "metadata": {},
   "source": [
    "\n",
    "### Tipo de Índice, Atributos & Justificação\n",
    "\n",
    "Para melhorar o desempenho da consulta apresentada, uma estratégia de indexação adequada seria criar um índice no atributo name da tabela product. Como a consulta está filtrando os produtos pelo prefixo \"A%\" no atributo name, um índice de pesquisa por prefixo seria eficaz para otimizar essa operação.\n",
    "Esse índice permitirá que o banco de dados pesquise rapidamente os produtos que possuam o prefixo \"A%\" no atributo name, reduzindo o tempo de execução da consulta.\n",
    "\n",
    "CREATE INDEX idx_product_name ON product (name);\n"
   ]
  }
 ],
 "metadata": {
  "kernelspec": {
   "display_name": "Python 3 (ipykernel)",
   "language": "python",
   "name": "python3"
  },
  "language_info": {
   "codemirror_mode": {
    "name": "ipython",
    "version": 3
   },
   "file_extension": ".py",
   "mimetype": "text/x-python",
   "name": "python",
   "nbconvert_exporter": "python",
   "pygments_lexer": "ipython3",
   "version": "3.10.11"
  }
 },
 "nbformat": 4,
 "nbformat_minor": 5
}
